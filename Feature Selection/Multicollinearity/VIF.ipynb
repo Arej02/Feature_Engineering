{
 "cells": [
  {
   "cell_type": "code",
   "execution_count": 1,
   "id": "870737f7-b0f0-4b09-b54b-062111b933a8",
   "metadata": {},
   "outputs": [],
   "source": [
    "import pandas as pd\n",
    "import numpy as np\n",
    "import seaborn as sns"
   ]
  },
  {
   "cell_type": "code",
   "execution_count": 2,
   "id": "5f342928-76dd-4e8c-bdbd-3bea1ce9cad5",
   "metadata": {},
   "outputs": [
    {
     "data": {
      "text/plain": [
       "(200, 5)"
      ]
     },
     "execution_count": 2,
     "metadata": {},
     "output_type": "execute_result"
    }
   ],
   "source": [
    "df = pd.read_csv('https://raw.githubusercontent.com/justmarkham/scikit-learn-videos/master/data/Advertising.csv')\n",
    "df.shape"
   ]
  },
  {
   "cell_type": "code",
   "execution_count": 3,
   "id": "45aba600-4733-4ce5-94d9-4ebf350c34c9",
   "metadata": {},
   "outputs": [
    {
     "data": {
      "text/html": [
       "<div>\n",
       "<style scoped>\n",
       "    .dataframe tbody tr th:only-of-type {\n",
       "        vertical-align: middle;\n",
       "    }\n",
       "\n",
       "    .dataframe tbody tr th {\n",
       "        vertical-align: top;\n",
       "    }\n",
       "\n",
       "    .dataframe thead th {\n",
       "        text-align: right;\n",
       "    }\n",
       "</style>\n",
       "<table border=\"1\" class=\"dataframe\">\n",
       "  <thead>\n",
       "    <tr style=\"text-align: right;\">\n",
       "      <th></th>\n",
       "      <th>Unnamed: 0</th>\n",
       "      <th>TV</th>\n",
       "      <th>Radio</th>\n",
       "      <th>Newspaper</th>\n",
       "      <th>Sales</th>\n",
       "    </tr>\n",
       "  </thead>\n",
       "  <tbody>\n",
       "    <tr>\n",
       "      <th>13</th>\n",
       "      <td>14</td>\n",
       "      <td>97.5</td>\n",
       "      <td>7.6</td>\n",
       "      <td>7.2</td>\n",
       "      <td>9.7</td>\n",
       "    </tr>\n",
       "    <tr>\n",
       "      <th>116</th>\n",
       "      <td>117</td>\n",
       "      <td>139.2</td>\n",
       "      <td>14.3</td>\n",
       "      <td>25.6</td>\n",
       "      <td>12.2</td>\n",
       "    </tr>\n",
       "    <tr>\n",
       "      <th>192</th>\n",
       "      <td>193</td>\n",
       "      <td>17.2</td>\n",
       "      <td>4.1</td>\n",
       "      <td>31.6</td>\n",
       "      <td>5.9</td>\n",
       "    </tr>\n",
       "  </tbody>\n",
       "</table>\n",
       "</div>"
      ],
      "text/plain": [
       "     Unnamed: 0     TV  Radio  Newspaper  Sales\n",
       "13           14   97.5    7.6        7.2    9.7\n",
       "116         117  139.2   14.3       25.6   12.2\n",
       "192         193   17.2    4.1       31.6    5.9"
      ]
     },
     "execution_count": 3,
     "metadata": {},
     "output_type": "execute_result"
    }
   ],
   "source": [
    "df.sample(3)"
   ]
  },
  {
   "cell_type": "code",
   "execution_count": 4,
   "id": "28f26d01-e14c-42f9-97b4-1ce6ed293206",
   "metadata": {},
   "outputs": [],
   "source": [
    "features=df.drop(columns=['Unnamed: 0','Sales'])"
   ]
  },
  {
   "cell_type": "code",
   "execution_count": 5,
   "id": "a446de19-23d9-4bc1-b5ac-a47c187194f3",
   "metadata": {},
   "outputs": [],
   "source": [
    "#Creating a dataframe:\n",
    "vif_df=pd.DataFrame()"
   ]
  },
  {
   "cell_type": "code",
   "execution_count": 6,
   "id": "25b7357a-e149-415a-b14e-caa469e574e0",
   "metadata": {},
   "outputs": [],
   "source": [
    "#Creating a column in the dataframe:\n",
    "vif_df['features']=features.columns"
   ]
  },
  {
   "cell_type": "code",
   "execution_count": 13,
   "id": "459c9228-a7fc-40b8-b991-e67a27559439",
   "metadata": {},
   "outputs": [],
   "source": [
    "import statsmodels.api as sm\n",
    "from statsmodels.stats.outliers_influence import variance_inflation_factor"
   ]
  },
  {
   "cell_type": "code",
   "execution_count": 16,
   "id": "5d739d78-0dd3-4b80-8bd1-15fc994ff35e",
   "metadata": {},
   "outputs": [
    {
     "name": "stdout",
     "output_type": "stream",
     "text": [
      "    features       VIF\n",
      "0         TV  2.486772\n",
      "1      Radio  3.285462\n",
      "2  Newspaper  3.055245\n"
     ]
    }
   ],
   "source": [
    "#VIF for all the columns:\n",
    "vif_df[\"VIF\"] = [variance_inflation_factor(features.values, i) for i in range(features.shape[1])]\n",
    "print(vif_df)"
   ]
  },
  {
   "cell_type": "markdown",
   "id": "b377fc0c-f4ab-4973-bc04-4b35f2bf80f3",
   "metadata": {},
   "source": [
    "**Important Points**:\n",
    "1. Multicollinearity is a serious prblem in data science. We study the machine learning algorithm for one of two important reason (To make inference or to make prediction). Multicollinearity might not affect a lot for prediction, but it'll make our results unreliable for inference. Say, for linear regression we want to study the coffiecients, however if two coefficients are highly correlated then we cannot study the impact of one independent feature on the other.\n",
    "2. A perfect collinearity happens when one column is a linear combiantion of other column. Such situation means it's redundant to have one of the two columns.\n",
    "3. VIF is one way to detect multicollinearity. If the R2 Score is high then the VIF will be high which hints towards multicollinearity."
   ]
  }
 ],
 "metadata": {
  "kernelspec": {
   "display_name": "Python 3 (ipykernel)",
   "language": "python",
   "name": "python3"
  },
  "language_info": {
   "codemirror_mode": {
    "name": "ipython",
    "version": 3
   },
   "file_extension": ".py",
   "mimetype": "text/x-python",
   "name": "python",
   "nbconvert_exporter": "python",
   "pygments_lexer": "ipython3",
   "version": "3.13.0"
  }
 },
 "nbformat": 4,
 "nbformat_minor": 5
}
