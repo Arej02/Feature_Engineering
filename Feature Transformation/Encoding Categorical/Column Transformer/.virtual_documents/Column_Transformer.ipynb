import pandas as pd


toy=pd.read_csv("covid_toy.csv")
toy.sample(3)


toy.isnull().mean()*100


toy['fever'].skew()


toy['fever'].mean()


toy['mean_fever']=toy['fever'].fillna(toy['fever'].mean())
toy.sample(3)


import matplotlib.pylab as plt
import seaborn as sns
plt.style.use('fivethirtyeight')

fig,ax=plt.subplots(ncols=1,nrows=1,figsize=(10,6))
sns.kdeplot(data=toy,x='fever',ax=ax,fill=True)
sns.kdeplot(data=toy,x='mean_fever',ax=ax,fill=True)

plt.show()


toy.head()


X=toy[['age','gender','mean_fever','cough','city']]
Y=toy['has_covid']


from sklearn.model_selection import train_test_split

X_train,X_test,Y_train,Y_test=train_test_split(X,Y,test_size=0.3,random_state=10)


from sklearn.preprocessing import OneHotEncoder
from sklearn.preprocessing import OrdinalEncoder

from sklearn.compose import ColumnTransformer


transformer=ColumnTransformer(transformers=[
    ('tnf1',OrdinalEncoder(categories=[['Mild','Strong']]),['cough']),
    ('tnf2',OneHotEncoder(drop='first',sparse_output=False),['gender','city'])
],remainder='passthrough')


X_train=transformer.fit_transform(X_train)
X_test=transformer.transform(X_test)

X_train.shape,X_test.shape



