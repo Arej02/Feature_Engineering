import pandas as pd


car=pd.read_csv("cars.csv")
car.sample(3)


car.shape


car.isnull().mean()*100


car['brand'].unique()


car['fuel'].unique()


car['owner'].unique()


counts=car['brand'].value_counts()


common_brand=counts[counts>100].index
filterd_brand=car[car['brand'].isin(common_brand)]
filterd_brand


X=filterd_brand.drop(columns=['selling_price'])
Y=filterd_brand['selling_price']


from sklearn.model_selection import train_test_split
X_train,X_test,Y_train,Y_test=train_test_split(X,Y,test_size=0.2,random_state=10)
X_train.shape,X_test.shape


from sklearn.preprocessing import OneHotEncoder
from sklearn.compose import ColumnTransformer


transformer=ColumnTransformer(transformers=[
    ('trf1',OneHotEncoder(drop='first',sparse_output=False),['fuel','owner','brand']),
],remainder='passthrough')


X_train=transformer.fit_transform(X_train)
X_test=transformer.transform(X_test)


X_train.shape,X_test.shape



