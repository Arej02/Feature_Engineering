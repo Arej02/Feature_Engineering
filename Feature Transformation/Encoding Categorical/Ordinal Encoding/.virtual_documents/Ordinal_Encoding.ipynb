import pandas as pd


customer=pd.read_csv("customer.csv")


customer.sample(3)





X=customer[['review','education']]
Y=customer['purchased']


from sklearn.model_selection import train_test_split

X_train,X_test,Y_train,Y_test=train_test_split(X,Y,test_size=0.2,random_state=42)


X_train


from sklearn.preprocessing import OrdinalEncoder
ordinal=OrdinalEncoder(categories=[['Poor','Average','Good'],['School','UG','PG']])


ordinal.fit(X_train)
X_train=ordinal.transform(X_train)
X_test=ordinal.transform(X_test)


X_train


ordinal.categories


from sklearn.preprocessing import LabelEncoder

label=LabelEncoder()


label.fit(Y_train)
Y_train=label.transform(Y_train)
Y_test=label.transform(Y_test)









