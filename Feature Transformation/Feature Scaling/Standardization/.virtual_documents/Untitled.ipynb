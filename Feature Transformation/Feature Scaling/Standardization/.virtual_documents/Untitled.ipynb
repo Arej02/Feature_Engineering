import pandas as pd


df=pd.read_csv("Social_Network_Ads.csv")


df.sample(3)





X=df[['Age','EstimatedSalary']]
Y=df['Purchased']


from sklearn.model_selection import train_test_split
X_train,X_test,Y_train,Y_test=train_test_split(X,Y,test_size=0.3,random_state=10)
X_train.shape,X_test.shape


from sklearn.preprocessing import StandardScaler
scaler=StandardScaler()

#Find the mean and standard devaition from the trained dataset
scaler.fit(X_train)
#Transform/Apply standardization to both the test and train dataset
X_train_scaled=scaler.transform(X_train)
X_test_scaled=scaler.transform(X_test)





X_train_scaled=pd.DataFrame(X_train_scaled,columns=X_train.columns)
X_test_scaled=pd.DataFrame(X_test_scaled,columns=X_test.columns)


round(X_train.describe(),1)


round(X_train_scaled.describe(),1)





import matplotlib.pylab as plt
fig,ax=plt.subplots(nrows=1,ncols=2,figsize=(15,6))

ax[0].scatter(X_train['Age'],X_train['EstimatedSalary'])
ax[0].set_title("Before Scaling")
ax[0].set_xlabel("Age")
ax[0].set_ylabel("Salary")
ax[1].scatter(X_train_scaled['Age'],X_train_scaled['EstimatedSalary'],color='red')
ax[1].set_title("After Scaling")
ax[1].set_xlabel("Age")
ax[1].set_ylabel("Salary")

fig.show()


import seaborn as sns
fig,ax=plt.subplots(nrows=1,ncols=2,figsize=(15,6))

sns.kdeplot(X_train['Age'],ax=ax[0])
sns.kdeplot(X_train['EstimatedSalary'],ax=ax[0])
ax[0].set_title("Before Scaling")

sns.kdeplot(X_train_scaled['Age'],ax=ax[1])
sns.kdeplot(X_train_scaled['EstimatedSalary'],ax=ax[1])
ax[1].set_title("Before Scaling")

fig.show()






