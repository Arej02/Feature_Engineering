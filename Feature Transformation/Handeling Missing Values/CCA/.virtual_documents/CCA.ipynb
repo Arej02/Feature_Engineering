import pandas as pd
import matplotlib.pylab as plt
plt.style.use('fivethirtyeight')


jobs=pd.read_csv("data_science_job.csv")
jobs.sample(3)


jobs.isnull().mean()





missing_val=[col for col in jobs.columns if jobs[col].isnull().mean()<0.05 and jobs[col].isnull().mean()>0]
missing_val


(len(jobs[missing_val].dropna())/jobs.shape[0])*100


new_df=jobs[missing_val].dropna()


jobs.shape,new_df.shape


#Numerical Columns:'city_development_index','experience','training_hours'
import seaborn as sns
fig,ax=plt.subplots(figsize=(10,6))

sns.kdeplot(data=jobs,x='city_development_index',fill=True)
sns.kdeplot(data=new_df,x='city_development_index',fill=True)

plt.show()


fig,ax=plt.subplots(figsize=(10,6))

sns.kdeplot(data=jobs,x='experience',fill=True)
sns.kdeplot(data=new_df,x='experience',fill=True)

plt.show()


fig,ax=plt.subplots(figsize=(10,6))

sns.kdeplot(data=jobs,x='training_hours',fill=True)
sns.kdeplot(data=new_df,x='training_hours',fill=True)

plt.show()


#Categorical Columns: 'enrolled_university','education_level'
enroll_before=jobs['enrolled_university'].value_counts()/len(jobs)
enroll_after=new_df['enrolled_university'].value_counts()/len(new_df)

temp=pd.concat([enroll_before,enroll_after],axis=1)
temp.columns=['Original','CCA']


education_before=jobs['education_level'].value_counts()/len(jobs)
education_after=new_df['education_level'].value_counts()/len(new_df)

temp=pd.concat([education_before,education_after],axis=1)
temp.columns=['Original','CCA']
temp



