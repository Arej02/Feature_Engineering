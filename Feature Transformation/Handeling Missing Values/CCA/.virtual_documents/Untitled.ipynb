import pandas as pd
import matplotlib.pylab as plt


jobs=pd.read_csv("data_science_job.csv")
jobs.sample(3)


jobs.isnull().mean()





missing_val=[col for col in jobs.columns if jobs[col].isnull().mean()<0.05 and jobs[col].isnull().mean()>0]
missing_val


jobs[missing_val].dropna()



