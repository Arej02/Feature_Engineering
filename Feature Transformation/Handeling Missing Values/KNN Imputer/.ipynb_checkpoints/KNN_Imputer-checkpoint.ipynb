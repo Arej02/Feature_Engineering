{
 "cells": [
  {
   "cell_type": "code",
   "execution_count": 1,
   "id": "52a793b1-4dea-4535-858e-106934391164",
   "metadata": {},
   "outputs": [],
   "source": [
    "import pandas as pd\n",
    "import numpy as np"
   ]
  },
  {
   "cell_type": "code",
   "execution_count": 2,
   "id": "ed11d88e-cfb0-4f08-be13-3730a1a4d1f3",
   "metadata": {},
   "outputs": [
    {
     "data": {
      "text/plain": [
       "(891, 12)"
      ]
     },
     "execution_count": 2,
     "metadata": {},
     "output_type": "execute_result"
    }
   ],
   "source": [
    "df=pd.read_csv(\"train.csv\")\n",
    "df.shape"
   ]
  },
  {
   "cell_type": "code",
   "execution_count": 3,
   "id": "4efb3d58-57a4-459b-9811-7c1ba8f79e6a",
   "metadata": {},
   "outputs": [
    {
     "data": {
      "text/html": [
       "<div>\n",
       "<style scoped>\n",
       "    .dataframe tbody tr th:only-of-type {\n",
       "        vertical-align: middle;\n",
       "    }\n",
       "\n",
       "    .dataframe tbody tr th {\n",
       "        vertical-align: top;\n",
       "    }\n",
       "\n",
       "    .dataframe thead th {\n",
       "        text-align: right;\n",
       "    }\n",
       "</style>\n",
       "<table border=\"1\" class=\"dataframe\">\n",
       "  <thead>\n",
       "    <tr style=\"text-align: right;\">\n",
       "      <th></th>\n",
       "      <th>PassengerId</th>\n",
       "      <th>Survived</th>\n",
       "      <th>Pclass</th>\n",
       "      <th>Name</th>\n",
       "      <th>Sex</th>\n",
       "      <th>Age</th>\n",
       "      <th>SibSp</th>\n",
       "      <th>Parch</th>\n",
       "      <th>Ticket</th>\n",
       "      <th>Fare</th>\n",
       "      <th>Cabin</th>\n",
       "      <th>Embarked</th>\n",
       "    </tr>\n",
       "  </thead>\n",
       "  <tbody>\n",
       "    <tr>\n",
       "      <th>635</th>\n",
       "      <td>636</td>\n",
       "      <td>1</td>\n",
       "      <td>2</td>\n",
       "      <td>Davis, Miss. Mary</td>\n",
       "      <td>female</td>\n",
       "      <td>28.0</td>\n",
       "      <td>0</td>\n",
       "      <td>0</td>\n",
       "      <td>237668</td>\n",
       "      <td>13.0000</td>\n",
       "      <td>NaN</td>\n",
       "      <td>S</td>\n",
       "    </tr>\n",
       "    <tr>\n",
       "      <th>485</th>\n",
       "      <td>486</td>\n",
       "      <td>0</td>\n",
       "      <td>3</td>\n",
       "      <td>Lefebre, Miss. Jeannie</td>\n",
       "      <td>female</td>\n",
       "      <td>NaN</td>\n",
       "      <td>3</td>\n",
       "      <td>1</td>\n",
       "      <td>4133</td>\n",
       "      <td>25.4667</td>\n",
       "      <td>NaN</td>\n",
       "      <td>S</td>\n",
       "    </tr>\n",
       "    <tr>\n",
       "      <th>780</th>\n",
       "      <td>781</td>\n",
       "      <td>1</td>\n",
       "      <td>3</td>\n",
       "      <td>Ayoub, Miss. Banoura</td>\n",
       "      <td>female</td>\n",
       "      <td>13.0</td>\n",
       "      <td>0</td>\n",
       "      <td>0</td>\n",
       "      <td>2687</td>\n",
       "      <td>7.2292</td>\n",
       "      <td>NaN</td>\n",
       "      <td>C</td>\n",
       "    </tr>\n",
       "  </tbody>\n",
       "</table>\n",
       "</div>"
      ],
      "text/plain": [
       "     PassengerId  Survived  Pclass                    Name     Sex   Age  \\\n",
       "635          636         1       2       Davis, Miss. Mary  female  28.0   \n",
       "485          486         0       3  Lefebre, Miss. Jeannie  female   NaN   \n",
       "780          781         1       3    Ayoub, Miss. Banoura  female  13.0   \n",
       "\n",
       "     SibSp  Parch  Ticket     Fare Cabin Embarked  \n",
       "635      0      0  237668  13.0000   NaN        S  \n",
       "485      3      1    4133  25.4667   NaN        S  \n",
       "780      0      0    2687   7.2292   NaN        C  "
      ]
     },
     "execution_count": 3,
     "metadata": {},
     "output_type": "execute_result"
    }
   ],
   "source": [
    "df.sample(3)"
   ]
  },
  {
   "cell_type": "code",
   "execution_count": 4,
   "id": "aed6f506-e608-4fed-a6ee-80e45922faae",
   "metadata": {},
   "outputs": [
    {
     "data": {
      "text/plain": [
       "PassengerId      0\n",
       "Survived         0\n",
       "Pclass           0\n",
       "Name             0\n",
       "Sex              0\n",
       "Age            177\n",
       "SibSp            0\n",
       "Parch            0\n",
       "Ticket           0\n",
       "Fare             0\n",
       "Cabin          687\n",
       "Embarked         2\n",
       "dtype: int64"
      ]
     },
     "execution_count": 4,
     "metadata": {},
     "output_type": "execute_result"
    }
   ],
   "source": [
    "df.isnull().sum()"
   ]
  },
  {
   "cell_type": "code",
   "execution_count": 5,
   "id": "e930ef65-785b-4180-84f7-f774f5c86a09",
   "metadata": {},
   "outputs": [],
   "source": [
    "X=df[['Pclass','Age','Fare']]\n",
    "Y=df['Survived']"
   ]
  },
  {
   "cell_type": "code",
   "execution_count": 12,
   "id": "7e239c19-d094-43a4-99b0-3f13da477d37",
   "metadata": {},
   "outputs": [
    {
     "data": {
      "text/plain": [
       "Survived\n",
       "0    549\n",
       "1    342\n",
       "Name: count, dtype: int64"
      ]
     },
     "execution_count": 12,
     "metadata": {},
     "output_type": "execute_result"
    }
   ],
   "source": [
    "df.Survived.value_counts()"
   ]
  },
  {
   "cell_type": "code",
   "execution_count": 6,
   "id": "908d5895-3e3c-407f-a2ab-15654348dddc",
   "metadata": {},
   "outputs": [],
   "source": [
    "from sklearn.model_selection import train_test_split\n",
    "\n",
    "X_train,X_test,Y_train,Y_test=train_test_split(X,Y,test_size=0.2,random_state=10)"
   ]
  },
  {
   "cell_type": "markdown",
   "id": "cdd41945-47f2-49e3-b4b5-f71dd17ba97a",
   "metadata": {},
   "source": [
    "#### Using KNN Imputer:"
   ]
  },
  {
   "cell_type": "code",
   "execution_count": 7,
   "id": "4fa554a3-4de6-4a6d-b0e8-c67c90b1029d",
   "metadata": {},
   "outputs": [],
   "source": [
    "from sklearn.impute import KNNImputer\n",
    "\n",
    "knn=KNNImputer()\n",
    "\n",
    "X_train1=knn.fit_transform(X_train)\n",
    "X_test1=knn.transform(X_test)"
   ]
  },
  {
   "cell_type": "code",
   "execution_count": 11,
   "id": "9c71a6c8-4cb9-4ef7-9cd0-05f0ad5573fb",
   "metadata": {},
   "outputs": [
    {
     "data": {
      "text/plain": [
       "0.7597765363128491"
      ]
     },
     "execution_count": 11,
     "metadata": {},
     "output_type": "execute_result"
    }
   ],
   "source": [
    "from sklearn.linear_model import LogisticRegression\n",
    "from sklearn.metrics import accuracy_score\n",
    "from sklearn.model_selection import cross_val_score\n",
    "\n",
    "lr=LogisticRegression()\n",
    "lr.fit(X_train1,Y_train)\n",
    "accuracy_score(Y_test,lr.predict(X_test1))"
   ]
  },
  {
   "cell_type": "code",
   "execution_count": 20,
   "id": "29a71918-d6b8-4fe8-a368-e8f38be8a6b2",
   "metadata": {},
   "outputs": [
    {
     "name": "stdout",
     "output_type": "stream",
     "text": [
      "The mean accuracy score is: 0.692 (+/-0.023)\n"
     ]
    }
   ],
   "source": [
    "scores=cross_val_score(lr,X_train1,Y_train,cv=5,scoring='accuracy')\n",
    "print(f\"The mean accuracy score is: {scores.mean():.3f} (+/-{scores.std():.3f})\")"
   ]
  },
  {
   "cell_type": "markdown",
   "id": "42c3bfc8-6379-4bb2-a688-26ef6097749d",
   "metadata": {},
   "source": [
    "#### Using Simple Imputer"
   ]
  },
  {
   "cell_type": "code",
   "execution_count": 9,
   "id": "5a3e3b56-3760-4197-89cb-e155e50b58bf",
   "metadata": {},
   "outputs": [],
   "source": [
    "from sklearn.impute import SimpleImputer\n",
    "\n",
    "si=SimpleImputer(strategy='mean')\n",
    "X_train2=si.fit_transform(X_train)\n",
    "X_test2=si.transform(X_test)"
   ]
  },
  {
   "cell_type": "code",
   "execution_count": 10,
   "id": "c8eef790-6d32-4a4d-a34d-4deb18566a06",
   "metadata": {},
   "outputs": [
    {
     "data": {
      "text/plain": [
       "0.7653631284916201"
      ]
     },
     "execution_count": 10,
     "metadata": {},
     "output_type": "execute_result"
    }
   ],
   "source": [
    "from sklearn.linear_model import LogisticRegression\n",
    "from sklearn.metrics import accuracy_score\n",
    "\n",
    "lr=LogisticRegression()\n",
    "lr.fit(X_train2,Y_train)\n",
    "accuracy_score(Y_test,lr.predict(X_test2))"
   ]
  },
  {
   "cell_type": "code",
   "execution_count": 21,
   "id": "9fed50de-b7d0-4556-b76a-cd3a6506627e",
   "metadata": {},
   "outputs": [
    {
     "name": "stdout",
     "output_type": "stream",
     "text": [
      "The mean accuracy score is: 0.685(+/-0.019)\n"
     ]
    }
   ],
   "source": [
    "scores=cross_val_score(lr,X_train2,Y_train,cv=5,scoring='accuracy')\n",
    "print(f\"The mean accuracy score is: {scores.mean():.3f}(+/-{scores.std():.3f})\")"
   ]
  },
  {
   "cell_type": "markdown",
   "id": "b099626f-c6c8-493d-b638-543a381f745e",
   "metadata": {},
   "source": [
    "**Important Points:**\n",
    "1. The KNN imputer is highly accurate but requires more time and memory, as it needs to store the entire dataset. Therefore, it is best suited for datasets with a smaller number of instances (n)"
   ]
  }
 ],
 "metadata": {
  "kernelspec": {
   "display_name": "Python 3 (ipykernel)",
   "language": "python",
   "name": "python3"
  },
  "language_info": {
   "codemirror_mode": {
    "name": "ipython",
    "version": 3
   },
   "file_extension": ".py",
   "mimetype": "text/x-python",
   "name": "python",
   "nbconvert_exporter": "python",
   "pygments_lexer": "ipython3",
   "version": "3.13.0"
  }
 },
 "nbformat": 4,
 "nbformat_minor": 5
}
