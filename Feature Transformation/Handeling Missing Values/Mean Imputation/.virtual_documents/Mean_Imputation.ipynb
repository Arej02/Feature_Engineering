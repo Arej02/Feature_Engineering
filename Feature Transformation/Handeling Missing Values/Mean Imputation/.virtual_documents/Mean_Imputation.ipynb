import pandas as pd
import matplotlib.pylab as plt
plt.style.use('fivethirtyeight')


titanic=pd.read_csv("titanic_toy.csv")
titanic.sample(3)


titanic.info()


titanic.isnull().mean()*100


#Since our age and fare feature consists of null values, I'll just try to mean or median impute those missing values.
mean_age1=titanic['Age'].mean()
median_age1=titanic['Age'].median()
print(mean_age1,median_age1)


X=titanic.drop(columns=['Survived'])
Y=titanic['Survived']


from sklearn.model_selection import train_test_split

X_train,X_test,Y_train,Y_test=train_test_split(X,Y,test_size=0.3,random_state=10)


X_train.isnull().mean()


#Mean and Median for Age:
mean_age2=X_train['Age'].mean()
median_age2=X_train['Age'].median()
print(mean_age2,median_age2)


#Mean and Median for Fare:
mean_age3=X_train['Fare'].mean()
median_age3=X_train['Fare'].median()
print(mean_age2,median_age2)


#Imputation in the Age column
X_train['mean_fare']=X_train['Fare'].fillna(mean_age3)
X_train['median_fare']=X_train['Fare'].fillna(median_age3)

X_train['mean_age']=X_train['Age'].fillna(mean_age2)
X_train['median_age']=X_train['Age'].fillna(median_age2)

X_train


print("Age")
print("Original Varaince is:",X_train['Age'].var())
print("Varaince after mean imputation is:",X_train['mean_age'].var())
print("Varaince after median imputation is",X_train['median_age'].var())
print("-"*60)
print("Fare")
print("Original Varaince is:",X_train['Fare'].var())
print("Varaince after mean imputation is:",X_train['mean_fare'].var())
print("Varaince after median imputation is",X_train['median_fare'].var())


import seaborn as sns
fig,ax=plt.subplots(nrows=1,ncols=2,figsize=(10,6))

sns.kdeplot(data=X_train,x=X_train['Age'],ax=ax[0],label="Age")
sns.kdeplot(data=X_train,x=X_train['mean_age'],ax=ax[0],label="Mean Age")
sns.kdeplot(data=X_train,x=X_train['median_age'],ax=ax[0],label="Median Age")
ax[0].legend(title="Age Distributions")

sns.kdeplot(data=X_train,x=X_train['Fare'],ax=ax[1],label="Fare")
sns.kdeplot(data=X_train,x=X_train['mean_fare'],ax=ax[1],label="Mean Fare")
sns.kdeplot(data=X_train,x=X_train['median_fare'],ax=ax[1],label="Median Fare")
ax[1].legend(title="Fare Distributions")

plt.show()


X_train.cov()


sns.boxplot(X_train[['Age','mean_age','median_age']])

plt.show()


sns.boxplot(X_train[['Fare','mean_fare','median_fare']])

plt.show()



