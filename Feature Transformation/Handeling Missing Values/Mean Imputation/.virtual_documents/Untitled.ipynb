import pandas as pd
import matplotlib.pylab as plt


titanic=pd.read_csv("titanic_toy.csv")
titanic.sample(3)


titanic.info()


titanic.isnull().mean()*100





from sklearn.model_selection import train_test_split

X_train=train_test+split()


#Since our age and fare feature consists of null values, I'll just try to mean or median impute those missing values.
mean_age=titanic['Age'].mean()
median_age=titanic['Age'].median()
print(mean_age,median_age)


new_df1=titanic['Age'].fillna(mean_age)
new_df1



