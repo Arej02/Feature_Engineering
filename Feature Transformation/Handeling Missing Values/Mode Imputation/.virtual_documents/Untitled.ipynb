import pandas as pd
import matplotlib.pylab as plt
plt.style.use('fivethirtyeight')
import seaborn as sns


df=pd.read_csv("train.csv",usecols=['GarageQual','FireplaceQu','SalePrice'])
df.sample(3)


df['FireplaceQu'].value_counts().plot(kind='bar')
plt.show()


df['GarageQual'].value_counts().plot(kind='bar')
plt.show()


df.isnull().mean()*100


ta_prices=df[df['GarageQual']=='TA']['SalePrice']
null_prices=df[df['GarageQual'].isnull()]['SalePrice']


#GarageQual Feature
fig,ax=plt.subplots(nrows=1,ncols=1,figsize=(10,6))

sns.kdeplot(data=ta_prices,label='Houses with TA',fill=True)
sns.kdeplot(data=null_prices,label='Houses with NA',fill=True)

plt.legend()
plt.show()


df['GarageQual'].fillna("TA",inplace=True)


df['GarageQual'].value_counts().plot(kind='bar')
plt.show()


mode_imputated=df[df['GarageQual']=='TA']['SalePrice']


fig,ax=plt.subplots(nrows=1,ncols=1,figsize=(10,6))

sns.kdeplot(data=ta_prices,label='Houses with TA',fill=True)
sns.kdeplot(data=mode_imputated,label='Houses after mode imputation',fill=True)

plt.legend()
plt.show()


df.sample(3)


df['FireplaceQu'].mode()


df['FireplaceQu'].value_counts().plot(kind='bar')
plt.show()


fireplace=df[df['FireplaceQu']=='Gd']['SalePrice']


fireplace_null=df[df['FireplaceQu'].isnull()]['SalePrice']


#FireplaceQu Feature
fig,ax=plt.subplots(nrows=1,ncols=1,figsize=(10,6))

sns.kdeplot(data=fireplace,label='Houses with GD',fill=True)
sns.kdeplot(data=fireplace_null,label='Houses with NA',fill=True)

plt.legend()
plt.show()





df['FireplaceQu'].fillna('Gd',inplace=True)


df['FireplaceQu'].value_counts().plot(kind='bar')
plt.show()


fireplace_imputed=df[df['FireplaceQu']=='Gd']['SalePrice']


#FireplaceQu Feature
fig,ax=plt.subplots(nrows=1,ncols=1,figsize=(10,6))

sns.kdeplot(data=fireplace,label='Houses with GD',fill=True)
sns.kdeplot(data=fireplace_imputed,label='Imputed',fill=True)

plt.legend()
plt.show()





df['FireplaceQu'].fillna('Missing',inplace=True)


df['FireplaceQu'].value_counts().plot(kind='bar')



