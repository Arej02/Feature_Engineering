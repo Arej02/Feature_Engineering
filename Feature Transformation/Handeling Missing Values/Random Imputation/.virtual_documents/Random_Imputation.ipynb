import pandas as pd
import matplotlib.pylab as plt
plt.style.use('fivethirtyeight')
import seaborn as sns


titanic=pd.read_csv('titanic_toy.csv')
titanic.sample(3)


titanic.shape


titanic.isnull().mean()*100


X=titanic.drop(columns=['Survived'])
Y=titanic['Survived']


from sklearn.model_selection import train_test_split

X_train,X_test,Y_train,Y_test=train_test_split(X,Y,test_size=0.2,random_state=10)
X_train.shape,X_test.shape


X_train['Age_Imputed']=X_train['Age']
X_test['Age_Imputed']=X_test['Age']


X_train


X_train['Age_Imputed'][X_train['Age_Imputed'].isnull()]=X_train['Age'].dropna().sample(X_train["Age"].isnull().sum()).values


X_test['Age_Imputed'][X_test['Age_Imputed'].isnull()]=X_test['Age'].dropna().sample(X_test["Age"].isnull().sum()).values


X_train


fig,ax=plt.subplots(nrows=1,ncols=1,figsize=(10,6))

sns.kdeplot(data=X_train,x='Age',fill=True,label="Age")
sns.kdeplot(data=X_train,x='Age_Imputed',fill=True,label="Age_Imputed")

plt.legend()
plt.show()


print("The variance before imputing the age feature is:",X_train['Age'].var())
print("The variance after imputing the age feature is:",X_train['Age_Imputed'].var())


X_train.cov()


fig,ax=plt.subplots(nrows=1,ncols=2,figsize=(10,6))

sns.boxplot(data=X_train,y='Age',fill=True,label="Age",ax=ax[0])
sns.boxplot(data=X_train,y='Age_Imputed',fill=True,label="Age_Imputed",ax=ax[1],color='red')

plt.legend()
plt.show()


train=pd.read_csv("train.csv",usecols=['GarageQual','FireplaceQu', 'SalePrice'])
train.sample(3)


train.isnull().mean()*100


train['FireplaceQu_Imputed']=train['FireplaceQu']


train['GarageQual_Imputed']=train['GarageQual']


train.sample(3)


train['FireplaceQu_Imputed'][train['FireplaceQu_Imputed'].isnull()]=train['FireplaceQu'].dropna().sample(train['FireplaceQu'].isnull().sum()).values


train['GarageQual_Imputed'][train['GarageQual_Imputed'].isnull()]=train['GarageQual'].dropna().sample(train['GarageQual'].isnull().sum()).values


train.sample(6)


for category in train['FireplaceQu'].dropna().unique():
    sns.kdeplot(train[train['FireplaceQu']==category]['SalePrice'],label=category)

plt.legend()
plt.show()


for category in train['FireplaceQu_Imputed'].dropna().unique():
    sns.kdeplot(train[train['FireplaceQu_Imputed']==category]['SalePrice'],label=category)

plt.legend()
plt.show()


fireplace=train['FireplaceQu'].value_counts()/len(train)
fireplace_imputed=train['FireplaceQu_Imputed'].value_counts()/len(train)


temp=pd.concat([fireplace,fireplace_imputed],axis=1)
temp.columns=('Original','After Imputation')
temp


garageQual=train['GarageQual'].value_counts()/len(train)
garageQual_imputed=train['GarageQual_Imputed'].value_counts()/len(train)


temp=pd.concat([garageQual,garageQual_imputed],axis=1)
temp.columns=('Original','After Imputation')
temp



