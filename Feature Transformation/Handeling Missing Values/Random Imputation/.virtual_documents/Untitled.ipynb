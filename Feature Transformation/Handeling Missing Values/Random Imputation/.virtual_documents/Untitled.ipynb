import pandas as pd
import matplotlib.pylab as plt
plt.style.use('fivethirtyeight')
import seaborn as sns


titanic=pd.read_csv('titanic_toy.csv')
titanic.sample(3)


titanic.shape


titanic.isnull().mean()*100


X=titanic.drop(columns=['Survived'])
Y=titanic['Survived']


from sklearn.model_selection import train_test_split

X_train,X_test,Y_train,Y_test=train_test_split(X,Y,test_size=0.2,random_state=10)
X_train.shape,X_test.shape


X_train['Age_Imputed']=X_train['Age']
X_test['Age_Imputed']=X_test['Age']


X_train


X_train['Age_Imputed'][X_train['Age_Imputed'].isnull()]=X_train['Age'].dropna().sample(X_train["Age"].isnull().sum()).values






X_train



