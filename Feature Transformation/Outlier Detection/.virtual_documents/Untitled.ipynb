import pandas as pd


placement=pd.read_csv("placement.csv")
placement.sample(3)





import matplotlib.pylab as plt
plt.style.use('fivethirtyeight')

fig,ax=plt.subplots(nrows=1,ncols=2,figsize=(15,6))

ax[0].hist(placement['cgpa'])
ax[0].set_title("Histogram of CGPA")

ax[1].hist(placement['placement_exam_marks'],color='red')
ax[1].set_title("Histogram of Placement Exam")

fig.show()


print(f"Skewness of CGPA is:{placement['cgpa'].skew()}")
print(f"Skewness of placement exams is:{placement['placement_exam_marks'].skew()}")



mean=placement['cgpa'].describe()


mean=placement['cgpa'].mean()
std=placement['cgpa'].std()
print(mean,std)


upper_limit=mean+3*std
lower_limit=mean-3*std
print(upper_limit,lower_limit)


placement[(placement['cgpa']>upper_limit) | (placement['cgpa']<lower_limit)]


#Trimming:
placement=placement[(placement['cgpa']<upper_limit) & (placement['cgpa']>lower_limit)]
placement.describe()






