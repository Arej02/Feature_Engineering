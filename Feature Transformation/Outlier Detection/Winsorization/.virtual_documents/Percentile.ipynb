import pandas as pd
import numpy as np
import matplotlib.pylab as plt
plt.style.use('fivethirtyeight')
import seaborn as sns





heights=pd.read_csv("heights.csv")


heights.sample(3)


heights.shape


heights.describe().T


fig,ax=plt.subplots(nrows=1,ncols=2,figsize=(10,6))

sns.kdeplot(data=heights,x='height',fill=True,ax=ax[0])
sns.boxplot(data=heights,y='height',ax=ax[1])

plt.show()


heights['height'].skew()





min_threshold, max_threshold = heights['height'].quantile([0.05, 0.95])
min_threshold, max_threshold





heights[(heights['height']>max_threshold) | (heights['height']<min_threshold)]


removed_df1=heights[(heights['height']<=max_threshold) & (heights['height']>=min_threshold)]
removed_df1.shape


fig,ax=plt.subplots(nrows=1,ncols=2,figsize=(10,6))

sns.kdeplot(data=removed_df1,x='height',fill=True,ax=ax[0])
sns.boxplot(data=removed_df1,y='height',ax=ax[1])

plt.show()





capped_df1=heights['height'].clip(lower=min_threshold,upper=max_threshold)
capped_df1=pd.DataFrame(capped_df1)
capped_df1.describe()


fig,ax=plt.subplots(nrows=1,ncols=2,figsize=(10,6))

sns.kdeplot(data=capped_df1,x='height',fill=True,ax=ax[0])
sns.boxplot(data=capped_df1,y='height',ax=ax[1])

plt.show()





price=pd.read_csv("bhp.csv")


price.shape


price.sample(4)


price.describe().T


fig,ax=plt.subplots(nrows=1,ncols=2,figsize=(10,6))

sns.kdeplot(data=price,x='price_per_sqft',fill=True,ax=ax[0])
sns.boxplot(data=price,y='price_per_sqft',ax=ax[1])

plt.show()


price['price_per_sqft'].skew()


min_threshold, max_threshold = price['price_per_sqft'].quantile([0.02, 0.98])
min_threshold, max_threshold


new_df2=price[(price['price_per_sqft']<=max_threshold) & (price['price_per_sqft']>=min_threshold)]


fig,ax=plt.subplots(nrows=1,ncols=2,figsize=(10,6))

sns.kdeplot(data=new_df2,x='price_per_sqft',fill=True,ax=ax[0])
sns.boxplot(data=new_df2,y='price_per_sqft',ax=ax[1])

plt.show()


new_df2['price_per_sqft'].skew()



