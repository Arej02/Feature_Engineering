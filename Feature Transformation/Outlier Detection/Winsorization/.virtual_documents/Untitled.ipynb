import pandas as pd
import numpy as np
import matplotlib.pylab as plt
plt.style.use('fivethirtyeight')
import seaborn as sns


height=pd.read_csv("heights.csv")


height.sample(3)


height.shape


height.describe().T


sns.kdeplot(data=height,x='height',fill=True)

plt.show()


height['height'].skew()





min_thresold, max_thresold = df.price_per_sqft.height([0.001, 0.999])
min_thresold, max_thresold



