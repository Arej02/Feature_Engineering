import pandas as pd


train=pd.read_csv("train.csv")
train.sample(3)


train.drop(columns=['PassengerId','Name','SibSp','Parch','Parch','Cabin','Ticket'])



