import pandas as pd


train=pd.read_csv("train.csv")
train.sample(3)


train.shape


train.drop(columns=['PassengerId','Name','SibSp','Parch','Parch','Cabin','Ticket'],inplace=True)


train.sample(3)


train.isnull().mean()*100


X=train.drop(columns=['Survived'])
Y=train['Survived']


from sklearn.model_selection import train_test_split
X_train,X_test,Y_train,Y_test=train_test_split(X,Y,test_size=0.3,random_state=10)
X_train.shape,X_test.shape


X_train


#Imputation Transformer:
from sklearn.impute import SimpleImputer
from sklearn.compose import ColumnTransformer

trf1=ColumnTransformer(transformers=[
    ('imputed_age',SimpleImputer(strategy='mean'),[2]),
    ('imputed_embarked',SimpleImputer(strategy='most_frequent'),[4])
],remainder='passthrough')


#One Hot Encoding:
from sklearn.preprocessing import OneHotEncoder
trf2=ColumnTransformer([
    ('ohe_sex_embarked',OneHotEncoder(sparse_output=False,handle_unknown='ignore'),[1,4])
],remainder='passthrough')


#Scaling Features:
from sklearn.preprocessing import MinMaxScaler
trf3=ColumnTransformer([
    ('scaler',MinMaxScaler(),slice(0,10))
])


#Feature Scaling:
from sklearn.feature_selection import SelectKBest,chi2
trf4=SelectKBest(score_func=chi2,k=10)


#Train the model:
from sklearn.tree import DecisionTreeClassifier
trf5=DecisionTreeClassifier()


from sklearn.pipeline import make_pipeline
pipe=make_pipeline(trf1,trf2,trf3,trf4,trf5)


pipe.fit(X_train,Y_train)


pipe.named_steps


from sklearn.metrics import accuracy_score
print("Accuracy:",accuracy_score(pipe.predict(X_test),Y_test))


params={
    'decisiontreeclassifier__max_depth':[1,2,3,4,5,None]
}


from sklearn.model_selection import GridSearchCV
grid=GridSearchCV(pipe,params,cv=5,scoring='accuracy')
grid.fit(X_train,Y_train)


grid.best_score_






